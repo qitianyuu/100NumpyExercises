{
 "cells": [
  {
   "cell_type": "markdown",
   "id": "344553e6",
   "metadata": {},
   "source": [
    "# 100 numpy exercises.."
   ]
  },
  {
   "cell_type": "code",
   "execution_count": 1,
   "id": "767f48dc",
   "metadata": {},
   "outputs": [],
   "source": [
    "import warnings\n",
    "warnings.filterwarnings('ignore')"
   ]
  },
  {
   "cell_type": "markdown",
   "id": "a4990934",
   "metadata": {},
   "source": [
    "**1.Import the numpy package under the name np (★☆☆)**"
   ]
  },
  {
   "cell_type": "code",
   "execution_count": 2,
   "id": "c794fd2f",
   "metadata": {},
   "outputs": [],
   "source": [
    "import numpy as np"
   ]
  },
  {
   "cell_type": "markdown",
   "id": "9b71b9bc",
   "metadata": {},
   "source": [
    "**2.Print the numpy version and the configuration (★☆☆)**"
   ]
  },
  {
   "cell_type": "code",
   "execution_count": 3,
   "id": "62843043",
   "metadata": {},
   "outputs": [
    {
     "name": "stdout",
     "output_type": "stream",
     "text": [
      "1.20.0\n",
      "blas_mkl_info:\n",
      "  NOT AVAILABLE\n",
      "blis_info:\n",
      "  NOT AVAILABLE\n",
      "openblas_info:\n",
      "    libraries = ['openblas', 'openblas']\n",
      "    library_dirs = ['/usr/local/lib']\n",
      "    language = c\n",
      "    define_macros = [('HAVE_CBLAS', None)]\n",
      "blas_opt_info:\n",
      "    libraries = ['openblas', 'openblas']\n",
      "    library_dirs = ['/usr/local/lib']\n",
      "    language = c\n",
      "    define_macros = [('HAVE_CBLAS', None)]\n",
      "lapack_mkl_info:\n",
      "  NOT AVAILABLE\n",
      "openblas_lapack_info:\n",
      "    libraries = ['openblas', 'openblas']\n",
      "    library_dirs = ['/usr/local/lib']\n",
      "    language = c\n",
      "    define_macros = [('HAVE_CBLAS', None)]\n",
      "lapack_opt_info:\n",
      "    libraries = ['openblas', 'openblas']\n",
      "    library_dirs = ['/usr/local/lib']\n",
      "    language = c\n",
      "    define_macros = [('HAVE_CBLAS', None)]\n"
     ]
    }
   ],
   "source": [
    "print(np.__version__)\n",
    "np.show_config()"
   ]
  },
  {
   "cell_type": "markdown",
   "id": "3725c9a3",
   "metadata": {},
   "source": [
    "**3.Create a null vector of size 10 (★☆☆)**"
   ]
  },
  {
   "cell_type": "code",
   "execution_count": 4,
   "id": "595a1ad2",
   "metadata": {},
   "outputs": [
    {
     "data": {
      "text/plain": [
       "array([0., 0., 0., 0., 0., 0., 0., 0., 0., 0.])"
      ]
     },
     "execution_count": 4,
     "metadata": {},
     "output_type": "execute_result"
    }
   ],
   "source": [
    "x = np.zeros(10)\n",
    "x"
   ]
  },
  {
   "cell_type": "markdown",
   "id": "dec3e01d",
   "metadata": {},
   "source": [
    "**4.How to find the memory size of any array (★☆☆)**"
   ]
  },
  {
   "cell_type": "code",
   "execution_count": 5,
   "id": "df7af6d2",
   "metadata": {},
   "outputs": [
    {
     "name": "stdout",
     "output_type": "stream",
     "text": [
      "80 bytes\n"
     ]
    }
   ],
   "source": [
    "print('%d bytes'%(x.size * x.itemsize))"
   ]
  },
  {
   "cell_type": "markdown",
   "id": "e645145f",
   "metadata": {},
   "source": [
    "**5.How to get the documentation of the numpy add function from the command line? (★☆☆)**"
   ]
  },
  {
   "cell_type": "code",
   "execution_count": null,
   "id": "4049deb6",
   "metadata": {},
   "outputs": [],
   "source": []
  },
  {
   "cell_type": "markdown",
   "id": "6153c19f",
   "metadata": {},
   "source": [
    "**6.Create a null vector of size 10 but the fifth value which is 1 (★☆☆)**"
   ]
  },
  {
   "cell_type": "code",
   "execution_count": 6,
   "id": "9b205734",
   "metadata": {},
   "outputs": [
    {
     "data": {
      "text/plain": [
       "array([0., 0., 0., 0., 1., 0., 0., 0., 0., 0.])"
      ]
     },
     "execution_count": 6,
     "metadata": {},
     "output_type": "execute_result"
    }
   ],
   "source": [
    "x = np.zeros(10)\n",
    "x[4] = 1\n",
    "x"
   ]
  },
  {
   "cell_type": "markdown",
   "id": "fae60ca2",
   "metadata": {},
   "source": [
    "**7.Create a vector with values ranging from 10 to 49 (★☆☆)**"
   ]
  },
  {
   "cell_type": "code",
   "execution_count": 7,
   "id": "1cc0c963",
   "metadata": {},
   "outputs": [
    {
     "data": {
      "text/plain": [
       "array([10, 11, 12, 13, 14, 15, 16, 17, 18, 19, 20, 21, 22, 23, 24, 25, 26,\n",
       "       27, 28, 29, 30, 31, 32, 33, 34, 35, 36, 37, 38, 39, 40, 41, 42, 43,\n",
       "       44, 45, 46, 47, 48, 49])"
      ]
     },
     "execution_count": 7,
     "metadata": {},
     "output_type": "execute_result"
    }
   ],
   "source": [
    "x = np.arange(10,50)\n",
    "x"
   ]
  },
  {
   "cell_type": "markdown",
   "id": "61b3fe95",
   "metadata": {},
   "source": [
    "**8.Reverse a vector (first element becomes last) (★☆☆)**"
   ]
  },
  {
   "cell_type": "code",
   "execution_count": 8,
   "id": "36ddd2e0",
   "metadata": {},
   "outputs": [
    {
     "data": {
      "text/plain": [
       "array([20, 19, 18, 17, 16, 15, 14, 13, 12, 11, 10])"
      ]
     },
     "execution_count": 8,
     "metadata": {},
     "output_type": "execute_result"
    }
   ],
   "source": [
    "x = np.arange(10,21)\n",
    "x = x[::-1]\n",
    "x"
   ]
  },
  {
   "cell_type": "markdown",
   "id": "5aa0b9a7",
   "metadata": {},
   "source": [
    "**9.Create a 3x3 matrix with values ranging from 0 to 8 (★☆☆)**"
   ]
  },
  {
   "cell_type": "code",
   "execution_count": 9,
   "id": "9bdbe1a1",
   "metadata": {},
   "outputs": [
    {
     "data": {
      "text/plain": [
       "array([[0, 1, 2],\n",
       "       [3, 4, 5],\n",
       "       [6, 7, 8]])"
      ]
     },
     "execution_count": 9,
     "metadata": {},
     "output_type": "execute_result"
    }
   ],
   "source": [
    "x = np.arange(9).reshape(3,3)\n",
    "x"
   ]
  },
  {
   "cell_type": "markdown",
   "id": "0dbc8277",
   "metadata": {},
   "source": [
    "**10.Find indices of non-zero elements from [1,2,0,0,4,0] (★☆☆)**"
   ]
  },
  {
   "cell_type": "code",
   "execution_count": 10,
   "id": "dd41de62",
   "metadata": {},
   "outputs": [
    {
     "data": {
      "text/plain": [
       "array([1, 2, 4])"
      ]
     },
     "execution_count": 10,
     "metadata": {},
     "output_type": "execute_result"
    }
   ],
   "source": [
    "x = np.array([1,2,0,0,4,0])\n",
    "x_ = [x!=0]\n",
    "x[tuple(x_)]"
   ]
  },
  {
   "cell_type": "code",
   "execution_count": 11,
   "id": "b9172290",
   "metadata": {},
   "outputs": [
    {
     "data": {
      "text/plain": [
       "(array([0, 1, 4]),)"
      ]
     },
     "execution_count": 11,
     "metadata": {},
     "output_type": "execute_result"
    }
   ],
   "source": [
    "x = np.array([1,2,0,0,4,0]).nonzero()\n",
    "x"
   ]
  },
  {
   "cell_type": "markdown",
   "id": "c8a66670",
   "metadata": {},
   "source": [
    "**11.Create a 3x3 identity matrix (★☆☆)**"
   ]
  },
  {
   "cell_type": "code",
   "execution_count": 12,
   "id": "16fea698",
   "metadata": {},
   "outputs": [
    {
     "data": {
      "text/plain": [
       "array([[1., 0., 0.],\n",
       "       [0., 1., 0.],\n",
       "       [0., 0., 1.]])"
      ]
     },
     "execution_count": 12,
     "metadata": {},
     "output_type": "execute_result"
    }
   ],
   "source": [
    "x = np.eye(3)\n",
    "x"
   ]
  },
  {
   "cell_type": "markdown",
   "id": "a3f5be09",
   "metadata": {},
   "source": [
    "**12.Create a 3x3x3 array with random values (★☆☆)**"
   ]
  },
  {
   "cell_type": "code",
   "execution_count": 13,
   "id": "2dccd264",
   "metadata": {},
   "outputs": [
    {
     "data": {
      "text/plain": [
       "array([[[0.49998636, 0.06465247, 0.52327612],\n",
       "        [0.98760629, 0.4016628 , 0.08824984],\n",
       "        [0.92731444, 0.19891375, 0.96495859]],\n",
       "\n",
       "       [[0.46077769, 0.69155697, 0.37318328],\n",
       "        [0.11549805, 0.99518816, 0.55190922],\n",
       "        [0.85148429, 0.47446933, 0.363226  ]],\n",
       "\n",
       "       [[0.73597583, 0.47117672, 0.42017002],\n",
       "        [0.50261459, 0.4095195 , 0.59484655],\n",
       "        [0.41007925, 0.30021352, 0.89308643]]])"
      ]
     },
     "execution_count": 13,
     "metadata": {},
     "output_type": "execute_result"
    }
   ],
   "source": [
    "x = np.random.random((3,3,3))\n",
    "x"
   ]
  },
  {
   "cell_type": "markdown",
   "id": "04f0acb7",
   "metadata": {},
   "source": [
    "**13.Create a 10x10 array with random values and find the minimum and maximum values (★☆☆)**"
   ]
  },
  {
   "cell_type": "code",
   "execution_count": 14,
   "id": "4e829455",
   "metadata": {},
   "outputs": [
    {
     "name": "stdout",
     "output_type": "stream",
     "text": [
      "0.9895821437831509 0.002094196355122868\n"
     ]
    }
   ],
   "source": [
    "x = np.random.random((10,10))\n",
    "print(x.max(), x.min())"
   ]
  },
  {
   "cell_type": "markdown",
   "id": "cd58c3c7",
   "metadata": {},
   "source": [
    "**14.Create a random vector of size 30 and find the mean value (★☆☆)**"
   ]
  },
  {
   "cell_type": "code",
   "execution_count": 15,
   "id": "49e171fe",
   "metadata": {},
   "outputs": [
    {
     "data": {
      "text/plain": [
       "0.538675420999775"
      ]
     },
     "execution_count": 15,
     "metadata": {},
     "output_type": "execute_result"
    }
   ],
   "source": [
    "x = np.random.random(30)\n",
    "x.mean()"
   ]
  },
  {
   "cell_type": "markdown",
   "id": "621de507",
   "metadata": {},
   "source": [
    "**15.Create a 2d array with 1 on the border and 0 inside (★☆☆)**"
   ]
  },
  {
   "cell_type": "code",
   "execution_count": 16,
   "id": "1f4f8f6d",
   "metadata": {},
   "outputs": [
    {
     "data": {
      "text/plain": [
       "array([[1., 1., 1., 1., 1., 1., 1., 1., 1., 1.],\n",
       "       [1., 0., 0., 0., 0., 0., 0., 0., 0., 1.],\n",
       "       [1., 0., 0., 0., 0., 0., 0., 0., 0., 1.],\n",
       "       [1., 0., 0., 0., 0., 0., 0., 0., 0., 1.],\n",
       "       [1., 0., 0., 0., 0., 0., 0., 0., 0., 1.],\n",
       "       [1., 0., 0., 0., 0., 0., 0., 0., 0., 1.],\n",
       "       [1., 0., 0., 0., 0., 0., 0., 0., 0., 1.],\n",
       "       [1., 0., 0., 0., 0., 0., 0., 0., 0., 1.],\n",
       "       [1., 0., 0., 0., 0., 0., 0., 0., 0., 1.],\n",
       "       [1., 1., 1., 1., 1., 1., 1., 1., 1., 1.]])"
      ]
     },
     "execution_count": 16,
     "metadata": {},
     "output_type": "execute_result"
    }
   ],
   "source": [
    "x = np.ones((10,10))\n",
    "x[1:-1, 1:-1] = 0\n",
    "x"
   ]
  },
  {
   "cell_type": "markdown",
   "id": "7c161356",
   "metadata": {},
   "source": [
    "**16.How to add a border (filled with 0's) around an existing array? (★☆☆)**"
   ]
  },
  {
   "cell_type": "code",
   "execution_count": 17,
   "id": "753638e9",
   "metadata": {},
   "outputs": [
    {
     "data": {
      "text/plain": [
       "array([[1., 1., 1., 1., 1., 1., 1.],\n",
       "       [1., 0., 0., 0., 0., 0., 1.],\n",
       "       [1., 0., 0., 0., 0., 0., 1.],\n",
       "       [1., 0., 0., 0., 0., 0., 1.],\n",
       "       [1., 0., 0., 0., 0., 0., 1.],\n",
       "       [1., 0., 0., 0., 0., 0., 1.],\n",
       "       [1., 1., 1., 1., 1., 1., 1.]])"
      ]
     },
     "execution_count": 17,
     "metadata": {},
     "output_type": "execute_result"
    }
   ],
   "source": [
    "x = np.zeros((5,5))\n",
    "x = np.pad(x, pad_width=1, mode='constant', constant_values=1)\n",
    "x"
   ]
  },
  {
   "cell_type": "markdown",
   "id": "4346991e",
   "metadata": {},
   "source": [
    "**17.What is the result of the following expression? (★☆☆)**"
   ]
  },
  {
   "cell_type": "code",
   "execution_count": 18,
   "id": "d21fd413",
   "metadata": {},
   "outputs": [
    {
     "name": "stdout",
     "output_type": "stream",
     "text": [
      "nan\n",
      "False\n",
      "False\n",
      "nan\n",
      "True\n",
      "False\n"
     ]
    }
   ],
   "source": [
    "print(0 * np.nan)\n",
    "print(np.nan == np.nan)\n",
    "print(np.inf > np.nan)\n",
    "print(np.nan - np.nan)\n",
    "print(np.nan in set([np.nan]))\n",
    "print(0.3 == 3 * 0.1) # Floating Point Arithmetic: Issues and Limitations"
   ]
  },
  {
   "cell_type": "markdown",
   "id": "2fd5d8be",
   "metadata": {},
   "source": [
    "**18.Create a 5x5 matrix with values 1,2,3,4 just below the diagonal (★☆☆)**"
   ]
  },
  {
   "cell_type": "code",
   "execution_count": 19,
   "id": "e0257193",
   "metadata": {},
   "outputs": [
    {
     "data": {
      "text/plain": [
       "array([[0, 0, 0, 0, 0],\n",
       "       [1, 0, 0, 0, 0],\n",
       "       [0, 2, 0, 0, 0],\n",
       "       [0, 0, 3, 0, 0],\n",
       "       [0, 0, 0, 4, 0]])"
      ]
     },
     "execution_count": 19,
     "metadata": {},
     "output_type": "execute_result"
    }
   ],
   "source": [
    "x = np.diag(1+np.arange(4),k=-1)\n",
    "x"
   ]
  },
  {
   "cell_type": "markdown",
   "id": "4f8d7394",
   "metadata": {},
   "source": [
    "**19.Create a 8x8 matrix and fill it with a checkerboard pattern (★☆☆)**"
   ]
  },
  {
   "cell_type": "code",
   "execution_count": 20,
   "id": "1f0a3931",
   "metadata": {},
   "outputs": [
    {
     "data": {
      "text/plain": [
       "array([[1., 0., 1., 0., 1., 0., 1., 0.],\n",
       "       [0., 1., 0., 1., 0., 1., 0., 1.],\n",
       "       [1., 0., 1., 0., 1., 0., 1., 0.],\n",
       "       [0., 1., 0., 1., 0., 1., 0., 1.],\n",
       "       [1., 0., 1., 0., 1., 0., 1., 0.],\n",
       "       [0., 1., 0., 1., 0., 1., 0., 1.],\n",
       "       [1., 0., 1., 0., 1., 0., 1., 0.],\n",
       "       [0., 1., 0., 1., 0., 1., 0., 1.]])"
      ]
     },
     "execution_count": 20,
     "metadata": {},
     "output_type": "execute_result"
    }
   ],
   "source": [
    "x = np.zeros((8,8))\n",
    "x[::2, ::2] = 1\n",
    "x[1::2, 1::2] = 1\n",
    "x"
   ]
  },
  {
   "cell_type": "markdown",
   "id": "5431cc81",
   "metadata": {},
   "source": [
    "**20.Consider a (6,7,8) shape array, what is the index (x,y,z) of the 100th element?**"
   ]
  },
  {
   "cell_type": "code",
   "execution_count": 21,
   "id": "fb175b89",
   "metadata": {},
   "outputs": [
    {
     "data": {
      "text/plain": [
       "(1, 5, 4)"
      ]
     },
     "execution_count": 21,
     "metadata": {},
     "output_type": "execute_result"
    }
   ],
   "source": [
    "np.unravel_index(100, (6,7,8))"
   ]
  },
  {
   "cell_type": "markdown",
   "id": "29bddc34",
   "metadata": {},
   "source": [
    "**21.Create a checkerboard 8x8 matrix using the tile function (★☆☆)**"
   ]
  },
  {
   "cell_type": "code",
   "execution_count": 22,
   "id": "53831bb6",
   "metadata": {},
   "outputs": [
    {
     "data": {
      "text/plain": [
       "array([[1, 0, 1, 0, 1, 0, 1, 0],\n",
       "       [0, 1, 0, 1, 0, 1, 0, 1],\n",
       "       [1, 0, 1, 0, 1, 0, 1, 0],\n",
       "       [0, 1, 0, 1, 0, 1, 0, 1],\n",
       "       [1, 0, 1, 0, 1, 0, 1, 0],\n",
       "       [0, 1, 0, 1, 0, 1, 0, 1],\n",
       "       [1, 0, 1, 0, 1, 0, 1, 0],\n",
       "       [0, 1, 0, 1, 0, 1, 0, 1]])"
      ]
     },
     "execution_count": 22,
     "metadata": {},
     "output_type": "execute_result"
    }
   ],
   "source": [
    "x = np.array([[1,0],[0,1]])\n",
    "np.tile(x,(4,4))"
   ]
  },
  {
   "cell_type": "markdown",
   "id": "7d5f8705",
   "metadata": {},
   "source": [
    "**22.Normalize a 5x5 random matrix (★☆☆)**"
   ]
  },
  {
   "cell_type": "code",
   "execution_count": 23,
   "id": "9be005f0",
   "metadata": {},
   "outputs": [
    {
     "data": {
      "text/plain": [
       "array([[ 0.27578558, -1.34806521, -0.02169141,  0.96466876,  0.96696905],\n",
       "       [-0.16911868, -0.7474835 ,  0.42689603, -0.36701103, -1.47955108],\n",
       "       [-0.91842574, -1.33980088,  1.04523064,  0.64359028, -0.61484213],\n",
       "       [-1.37091161,  1.67347074, -0.46904548,  1.05537728,  1.80967284],\n",
       "       [ 1.02387961, -1.40044709,  0.07400527,  0.94313452, -0.65628679]])"
      ]
     },
     "execution_count": 23,
     "metadata": {},
     "output_type": "execute_result"
    }
   ],
   "source": [
    "x = np.random.random((5,5))\n",
    "x = (x - x.mean())/x.std()\n",
    "x"
   ]
  },
  {
   "cell_type": "markdown",
   "id": "99fca7b3",
   "metadata": {},
   "source": [
    "**23.Create a custom dtype that describes a color as four unsigned bytes (RGBA) (★☆☆)**"
   ]
  },
  {
   "cell_type": "code",
   "execution_count": 24,
   "id": "3aa21674",
   "metadata": {},
   "outputs": [
    {
     "data": {
      "text/plain": [
       "dtype([('r', 'u1'), ('g', 'u1'), ('b', 'u1'), ('a', 'u1')])"
      ]
     },
     "execution_count": 24,
     "metadata": {},
     "output_type": "execute_result"
    }
   ],
   "source": [
    "color = np.dtype([('r', np.ubyte, 1),\n",
    "                  ('g', np.ubyte, 1),\n",
    "                  ('b', np.ubyte, 1),\n",
    "                  ('a', np.ubyte, 1)\n",
    "                ])\n",
    "color"
   ]
  },
  {
   "cell_type": "markdown",
   "id": "56ff985f",
   "metadata": {},
   "source": [
    "**24.Multiply a 5x3 matrix by a 3x2 matrix (real matrix product) (★☆☆)**"
   ]
  },
  {
   "cell_type": "code",
   "execution_count": 25,
   "id": "56ea5e90",
   "metadata": {},
   "outputs": [
    {
     "data": {
      "text/plain": [
       "(5, 2)"
      ]
     },
     "execution_count": 25,
     "metadata": {},
     "output_type": "execute_result"
    }
   ],
   "source": [
    "x = np.random.random((5,3))\n",
    "y = np.random.random((3,2))\n",
    "z = np.dot(x,y)\n",
    "z.shape"
   ]
  },
  {
   "cell_type": "markdown",
   "id": "a64af46b",
   "metadata": {},
   "source": [
    "**25.Given a 1D array, negate all elements which are between 3 and 8, in place. (★☆☆)**"
   ]
  },
  {
   "cell_type": "code",
   "execution_count": 26,
   "id": "f1c52c86",
   "metadata": {},
   "outputs": [
    {
     "data": {
      "text/plain": [
       "array([ 0,  1,  2,  3, -4, -5, -6, -7, -8,  9, 10])"
      ]
     },
     "execution_count": 26,
     "metadata": {},
     "output_type": "execute_result"
    }
   ],
   "source": [
    "x = np.arange(11)\n",
    "x[(x>3) & (x<9)] *= -1\n",
    "x"
   ]
  },
  {
   "cell_type": "markdown",
   "id": "3e4da04e",
   "metadata": {},
   "source": [
    "**26.What is the output of the following script? (★☆☆)**"
   ]
  },
  {
   "cell_type": "code",
   "execution_count": 27,
   "id": "efa15fc5",
   "metadata": {},
   "outputs": [
    {
     "name": "stdout",
     "output_type": "stream",
     "text": [
      "9\n"
     ]
    }
   ],
   "source": [
    "print(sum(range(5),-1)) #10-1"
   ]
  },
  {
   "cell_type": "markdown",
   "id": "1b0d22b7",
   "metadata": {},
   "source": [
    "**27.Consider an integer vector Z, which of these expressions are legal? (★☆☆)**"
   ]
  },
  {
   "cell_type": "code",
   "execution_count": 28,
   "id": "fad8cf85",
   "metadata": {},
   "outputs": [],
   "source": [
    "Z = np.ones(10)\n",
    "# Z**Z √\n",
    "# 2 << Z >> 2\n",
    "# Z <- Z √\n",
    "# 1j*Z √\n",
    "# Z/1/1 √\n",
    "# Z<Z>Z"
   ]
  },
  {
   "cell_type": "markdown",
   "id": "04fc9976",
   "metadata": {},
   "source": [
    "**28.What are the result of the following expressions?**"
   ]
  },
  {
   "cell_type": "code",
   "execution_count": 29,
   "id": "7838bd5e",
   "metadata": {},
   "outputs": [
    {
     "name": "stdout",
     "output_type": "stream",
     "text": [
      "nan\n",
      "0\n",
      "[-9.22337204e+18]\n"
     ]
    }
   ],
   "source": [
    "print(np.array(0) / np.array(0))\n",
    "print(np.array(0) // np.array(0))\n",
    "print(np.array([np.nan]).astype(int).astype(float))"
   ]
  },
  {
   "cell_type": "markdown",
   "id": "99f39107",
   "metadata": {},
   "source": [
    "**29.How to round away from zero a float array ? (★☆☆)**"
   ]
  },
  {
   "cell_type": "markdown",
   "id": "a29c2d08",
   "metadata": {},
   "source": [
    "**30.How to find common values between two arrays? (★☆☆)**"
   ]
  },
  {
   "cell_type": "code",
   "execution_count": 30,
   "id": "8c9f9f67",
   "metadata": {},
   "outputs": [
    {
     "data": {
      "text/plain": [
       "array([3, 4])"
      ]
     },
     "execution_count": 30,
     "metadata": {},
     "output_type": "execute_result"
    }
   ],
   "source": [
    "x = np.arange(0,5)\n",
    "y = np.arange(3,9)\n",
    "np.intersect1d(x,y)"
   ]
  },
  {
   "cell_type": "markdown",
   "id": "238513ca",
   "metadata": {},
   "source": [
    "**31.How to ignore all numpy warnings (not recommended)? (★☆☆)**"
   ]
  },
  {
   "cell_type": "code",
   "execution_count": 31,
   "id": "fdacb018",
   "metadata": {},
   "outputs": [],
   "source": [
    "import warnings\n",
    "warnings.filterwarnings('ignore')"
   ]
  },
  {
   "cell_type": "markdown",
   "id": "7dde8e11",
   "metadata": {},
   "source": [
    "**32.Is the following expressions true? (★☆☆)**"
   ]
  },
  {
   "cell_type": "code",
   "execution_count": 32,
   "id": "92902c1a",
   "metadata": {},
   "outputs": [
    {
     "data": {
      "text/plain": [
       "False"
      ]
     },
     "execution_count": 32,
     "metadata": {},
     "output_type": "execute_result"
    }
   ],
   "source": [
    "np.sqrt(-1) == np.emath.sqrt(-1) # nan 1j\n",
    "\n",
    "# For negative input elements, a complex value is returned\n",
    "# (unlike `numpy.sqrt` which returns NaN)."
   ]
  },
  {
   "cell_type": "markdown",
   "id": "71bc468d",
   "metadata": {},
   "source": [
    "**33.How to get the dates of yesterday, today and tomorrow? (★☆☆)**"
   ]
  },
  {
   "cell_type": "code",
   "execution_count": 33,
   "id": "cb8a29a4",
   "metadata": {},
   "outputs": [
    {
     "name": "stdout",
     "output_type": "stream",
     "text": [
      "y -> 2021-11-06, t -> 2021-11-07, tomo -> 2021-11-08\n"
     ]
    }
   ],
   "source": [
    "yest = np.datetime64('today','D') - np.timedelta64(1,'D')\n",
    "today = np.datetime64('today','D')\n",
    "tomo = np.datetime64('today', 'D') + np.timedelta64(1, 'D')\n",
    "print('y -> {}, t -> {}, tomo -> {}'.format(yest, today, tomo))"
   ]
  },
  {
   "cell_type": "markdown",
   "id": "fc22e422",
   "metadata": {},
   "source": [
    "**34.How to get all the dates corresponding to the month of July 2016? (★★☆)**"
   ]
  },
  {
   "cell_type": "code",
   "execution_count": null,
   "id": "f2d220d7",
   "metadata": {},
   "outputs": [],
   "source": []
  }
 ],
 "metadata": {
  "kernelspec": {
   "display_name": "Python 3 (ipykernel)",
   "language": "python",
   "name": "python3"
  },
  "language_info": {
   "codemirror_mode": {
    "name": "ipython",
    "version": 3
   },
   "file_extension": ".py",
   "mimetype": "text/x-python",
   "name": "python",
   "nbconvert_exporter": "python",
   "pygments_lexer": "ipython3",
   "version": "3.8.2"
  }
 },
 "nbformat": 4,
 "nbformat_minor": 5
}
